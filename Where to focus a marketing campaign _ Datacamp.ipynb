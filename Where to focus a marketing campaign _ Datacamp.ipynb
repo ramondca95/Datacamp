{
 "cells": [
  {
   "cell_type": "markdown",
   "id": "9a9ada08-c9f0-466f-91a0-265fa539f9f5",
   "metadata": {},
   "source": [
    "# <center> Where to focus a marketing campaign? </center>\n",
    "\n"
   ]
  },
  {
   "cell_type": "markdown",
   "id": "10dcc269-3659-4851-99cd-f1ffb7f818aa",
   "metadata": {
    "tags": []
   },
   "source": [
    "## 💾 The data\n",
    "\n",
    "#### Historic crowdfunding donations\n",
    "- \"category\" - \"Sports\", \"Fashion\", \"Technology\", etc.\n",
    "- \"device\" - the type of device used.\n",
    "- \"gender\" - gender of the user.\n",
    "- \"age range\" - one of five age brackets.\n",
    "- \"amount\" - how much the user donated in Euros."
   ]
  },
  {
   "cell_type": "code",
   "execution_count": 1,
   "id": "40251159-3eea-47f8-bfb4-09e38d5ced65",
   "metadata": {},
   "outputs": [
    {
     "data": {
      "application/com.datacamp.data-table.v1+json": {
       "is_truncated": false,
       "table": {
        "data": [
         {
          "age": "45-54",
          "amount": 61,
          "category": "Fashion",
          "device": "iOS",
          "gender": "F",
          "index": 0
         },
         {
          "age": "18-24",
          "amount": 31,
          "category": "Sports",
          "device": "android",
          "gender": "M",
          "index": 1
         },
         {
          "age": "18-24",
          "amount": 39,
          "category": "Technology",
          "device": "android",
          "gender": "M",
          "index": 2
         },
         {
          "age": "18-24",
          "amount": 36,
          "category": "Technology",
          "device": "iOS",
          "gender": "M",
          "index": 3
         },
         {
          "age": "18-24",
          "amount": 40,
          "category": "Sports",
          "device": "android",
          "gender": "M",
          "index": 4
         },
         {
          "age": "18-24",
          "amount": 59,
          "category": "Games",
          "device": "iOS",
          "gender": "M",
          "index": 5
         },
         {
          "age": "45-54",
          "amount": 58,
          "category": "Fashion",
          "device": "android",
          "gender": "F",
          "index": 6
         },
         {
          "age": "45-54",
          "amount": 56,
          "category": "Fashion",
          "device": "iOS",
          "gender": "F",
          "index": 7
         },
         {
          "age": "35-44",
          "amount": 33,
          "category": "Technology",
          "device": "android",
          "gender": "F",
          "index": 8
         },
         {
          "age": "18-24",
          "amount": 44,
          "category": "Games",
          "device": "iOS",
          "gender": "F",
          "index": 9
         }
        ],
        "schema": {
         "fields": [
          {
           "name": "index",
           "type": "integer"
          },
          {
           "name": "category",
           "type": "string"
          },
          {
           "name": "device",
           "type": "string"
          },
          {
           "name": "gender",
           "type": "string"
          },
          {
           "name": "age",
           "type": "string"
          },
          {
           "name": "amount",
           "type": "number"
          }
         ],
         "pandas_version": "0.20.0",
         "primaryKey": [
          "index"
         ]
        }
       }
      },
      "text/html": [
       "<div>\n",
       "<style scoped>\n",
       "    .dataframe tbody tr th:only-of-type {\n",
       "        vertical-align: middle;\n",
       "    }\n",
       "\n",
       "    .dataframe tbody tr th {\n",
       "        vertical-align: top;\n",
       "    }\n",
       "\n",
       "    .dataframe thead th {\n",
       "        text-align: right;\n",
       "    }\n",
       "</style>\n",
       "<table border=\"1\" class=\"dataframe\">\n",
       "  <thead>\n",
       "    <tr style=\"text-align: right;\">\n",
       "      <th></th>\n",
       "      <th>category</th>\n",
       "      <th>device</th>\n",
       "      <th>gender</th>\n",
       "      <th>age</th>\n",
       "      <th>amount</th>\n",
       "    </tr>\n",
       "  </thead>\n",
       "  <tbody>\n",
       "    <tr>\n",
       "      <th>0</th>\n",
       "      <td>Fashion</td>\n",
       "      <td>iOS</td>\n",
       "      <td>F</td>\n",
       "      <td>45-54</td>\n",
       "      <td>61.0</td>\n",
       "    </tr>\n",
       "    <tr>\n",
       "      <th>1</th>\n",
       "      <td>Sports</td>\n",
       "      <td>android</td>\n",
       "      <td>M</td>\n",
       "      <td>18-24</td>\n",
       "      <td>31.0</td>\n",
       "    </tr>\n",
       "    <tr>\n",
       "      <th>2</th>\n",
       "      <td>Technology</td>\n",
       "      <td>android</td>\n",
       "      <td>M</td>\n",
       "      <td>18-24</td>\n",
       "      <td>39.0</td>\n",
       "    </tr>\n",
       "    <tr>\n",
       "      <th>3</th>\n",
       "      <td>Technology</td>\n",
       "      <td>iOS</td>\n",
       "      <td>M</td>\n",
       "      <td>18-24</td>\n",
       "      <td>36.0</td>\n",
       "    </tr>\n",
       "    <tr>\n",
       "      <th>4</th>\n",
       "      <td>Sports</td>\n",
       "      <td>android</td>\n",
       "      <td>M</td>\n",
       "      <td>18-24</td>\n",
       "      <td>40.0</td>\n",
       "    </tr>\n",
       "    <tr>\n",
       "      <th>5</th>\n",
       "      <td>Games</td>\n",
       "      <td>iOS</td>\n",
       "      <td>M</td>\n",
       "      <td>18-24</td>\n",
       "      <td>59.0</td>\n",
       "    </tr>\n",
       "    <tr>\n",
       "      <th>6</th>\n",
       "      <td>Fashion</td>\n",
       "      <td>android</td>\n",
       "      <td>F</td>\n",
       "      <td>45-54</td>\n",
       "      <td>58.0</td>\n",
       "    </tr>\n",
       "    <tr>\n",
       "      <th>7</th>\n",
       "      <td>Fashion</td>\n",
       "      <td>iOS</td>\n",
       "      <td>F</td>\n",
       "      <td>45-54</td>\n",
       "      <td>56.0</td>\n",
       "    </tr>\n",
       "    <tr>\n",
       "      <th>8</th>\n",
       "      <td>Technology</td>\n",
       "      <td>android</td>\n",
       "      <td>F</td>\n",
       "      <td>35-44</td>\n",
       "      <td>33.0</td>\n",
       "    </tr>\n",
       "    <tr>\n",
       "      <th>9</th>\n",
       "      <td>Games</td>\n",
       "      <td>iOS</td>\n",
       "      <td>F</td>\n",
       "      <td>18-24</td>\n",
       "      <td>44.0</td>\n",
       "    </tr>\n",
       "  </tbody>\n",
       "</table>\n",
       "</div>"
      ],
      "text/plain": [
       "     category   device gender    age  amount\n",
       "0     Fashion      iOS      F  45-54    61.0\n",
       "1      Sports  android      M  18-24    31.0\n",
       "2  Technology  android      M  18-24    39.0\n",
       "3  Technology      iOS      M  18-24    36.0\n",
       "4      Sports  android      M  18-24    40.0\n",
       "5       Games      iOS      M  18-24    59.0\n",
       "6     Fashion  android      F  45-54    58.0\n",
       "7     Fashion      iOS      F  45-54    56.0\n",
       "8  Technology  android      F  35-44    33.0\n",
       "9       Games      iOS      F  18-24    44.0"
      ]
     },
     "execution_count": 1,
     "metadata": {},
     "output_type": "execute_result"
    }
   ],
   "source": [
    "import pandas as pd\n",
    "import plotly.express as px\n",
    "df = pd.read_csv('./data/crowdfunding.csv')\n",
    "df.head(10)"
   ]
  },
  {
   "cell_type": "markdown",
   "id": "54e0ae0c-ff96-443e-9ff3-718f1ab846e5",
   "metadata": {
    "jp-MarkdownHeadingCollapsed": true,
    "tags": []
   },
   "source": [
    "## 💪 Challenge\n",
    "[CLICK](#vis) Create a **single** visualization that the marketing manager can use to explore the data. Include: \n",
    "\n",
    "\n",
    "1. [CLICK](#three) What are the top three categories in terms of total donations? \n",
    "2. [CLICK](#dev) What device type has historically provided the most contributions?  \n",
    "3. [CLICK](#age) What age bracket should the campaign target? \n",
    "\n",
    "\n",
    " \n",
    "[CLICK](#sec) (plus) The second best age range per category "
   ]
  },
  {
   "cell_type": "markdown",
   "id": "d5b3f8cc-1756-47a8-a127-96f29a5e101a",
   "metadata": {},
   "source": [
    "<a name=\"three\"></a>\n",
    "___\n",
    "# <center> 1. TOP THREE CATEGORIES OF TOTAL DONATIONS </center>"
   ]
  },
  {
   "cell_type": "code",
   "execution_count": 2,
   "id": "39b5f160-2954-4ff3-a8f5-55b066f7782e",
   "metadata": {},
   "outputs": [
    {
     "data": {
      "text/plain": [
       "['Technology', 'Environment', 'Games', 'Sports', 'Fashion']"
      ]
     },
     "execution_count": 2,
     "metadata": {},
     "output_type": "execute_result"
    }
   ],
   "source": [
    " # List of categories \n",
    "cat = list(set(df[\"category\"]))\n",
    "cat"
   ]
  },
  {
   "cell_type": "code",
   "execution_count": 3,
   "id": "28c65a34-5399-461f-ae4a-7b40f39b4e70",
   "metadata": {},
   "outputs": [
    {
     "data": {
      "text/plain": [
       "[162731.0, 162376.0, 165483.0, 163528.0, 159952.0]"
      ]
     },
     "execution_count": 3,
     "metadata": {},
     "output_type": "execute_result"
    }
   ],
   "source": [
    "# List of the total sum of contributions.\n",
    "list_amount_cat = []\n",
    "for i in cat:\n",
    "    list_amount_cat.append(sum(df[df[\"category\"] == i][\"amount\"]))\n",
    "list_amount_cat "
   ]
  },
  {
   "cell_type": "code",
   "execution_count": 4,
   "id": "a5a6572d-44a0-436a-bfe7-c93029566bc7",
   "metadata": {},
   "outputs": [
    {
     "data": {
      "application/com.datacamp.data-table.v1+json": {
       "is_truncated": false,
       "table": {
        "data": [
         {
          "amount": 165483,
          "category": "Games",
          "index": 2
         },
         {
          "amount": 163528,
          "category": "Sports",
          "index": 3
         },
         {
          "amount": 162731,
          "category": "Technology",
          "index": 0
         },
         {
          "amount": 162376,
          "category": "Environment",
          "index": 1
         },
         {
          "amount": 159952,
          "category": "Fashion",
          "index": 4
         }
        ],
        "schema": {
         "fields": [
          {
           "name": "index",
           "type": "integer"
          },
          {
           "name": "category",
           "type": "string"
          },
          {
           "name": "amount",
           "type": "number"
          }
         ],
         "pandas_version": "0.20.0",
         "primaryKey": [
          "index"
         ]
        }
       }
      },
      "text/html": [
       "<div>\n",
       "<style scoped>\n",
       "    .dataframe tbody tr th:only-of-type {\n",
       "        vertical-align: middle;\n",
       "    }\n",
       "\n",
       "    .dataframe tbody tr th {\n",
       "        vertical-align: top;\n",
       "    }\n",
       "\n",
       "    .dataframe thead th {\n",
       "        text-align: right;\n",
       "    }\n",
       "</style>\n",
       "<table border=\"1\" class=\"dataframe\">\n",
       "  <thead>\n",
       "    <tr style=\"text-align: right;\">\n",
       "      <th></th>\n",
       "      <th>category</th>\n",
       "      <th>amount</th>\n",
       "    </tr>\n",
       "  </thead>\n",
       "  <tbody>\n",
       "    <tr>\n",
       "      <th>2</th>\n",
       "      <td>Games</td>\n",
       "      <td>165483.0</td>\n",
       "    </tr>\n",
       "    <tr>\n",
       "      <th>3</th>\n",
       "      <td>Sports</td>\n",
       "      <td>163528.0</td>\n",
       "    </tr>\n",
       "    <tr>\n",
       "      <th>0</th>\n",
       "      <td>Technology</td>\n",
       "      <td>162731.0</td>\n",
       "    </tr>\n",
       "    <tr>\n",
       "      <th>1</th>\n",
       "      <td>Environment</td>\n",
       "      <td>162376.0</td>\n",
       "    </tr>\n",
       "    <tr>\n",
       "      <th>4</th>\n",
       "      <td>Fashion</td>\n",
       "      <td>159952.0</td>\n",
       "    </tr>\n",
       "  </tbody>\n",
       "</table>\n",
       "</div>"
      ],
      "text/plain": [
       "      category    amount\n",
       "2        Games  165483.0\n",
       "3       Sports  163528.0\n",
       "0   Technology  162731.0\n",
       "1  Environment  162376.0\n",
       "4      Fashion  159952.0"
      ]
     },
     "execution_count": 4,
     "metadata": {},
     "output_type": "execute_result"
    }
   ],
   "source": [
    "# Dataframe of the two lists\n",
    "cat_amount = {\"category\":cat, \"amount\": list_amount_cat}\n",
    "df_cat_amount = pd.DataFrame(cat_amount)\n",
    "df_c_a_sort = df_cat_amount.sort_values(\"amount\", ascending = False)\n",
    "df_c_a_sort"
   ]
  },
  {
   "cell_type": "code",
   "execution_count": 5,
   "id": "5f79c764-fa18-4a8e-b510-ca46add66f10",
   "metadata": {},
   "outputs": [
    {
     "data": {
      "image/png": "[encoded data removed]",
      "text/plain": [
       "<Figure size 576x360 with 1 Axes>"
      ]
     },
     "metadata": {
      "needs_background": "light"
     },
     "output_type": "display_data"
    }
   ],
   "source": [
    "import matplotlib.pyplot as plt\n",
    "plt.rcParams[\"figure.figsize\"] = (8,5)\n",
    "colors = [\"r\", \"r\", \"r\", \"b\", \"b\"]\n",
    "plt.scatter(df_c_a_sort[\"category\"], df_c_a_sort[\"amount\"], color = colors)\n",
    "plt.title(\"Total contributions per category\")\n",
    "plt.show()                                            "
   ]
  },
  {
   "cell_type": "markdown",
   "id": "a20f743b-9131-4e96-982d-793c1233f736",
   "metadata": {},
   "source": [
    "<a name=\"dev\"></a>\n",
    "___\n",
    "# <center> 2. DEVICE TYPE PROVIDED THE MOST CONTRIBUTIONS </center>"
   ]
  },
  {
   "cell_type": "code",
   "execution_count": 6,
   "id": "12cfba19-36f8-4173-b749-865c4f12296a",
   "metadata": {},
   "outputs": [
    {
     "data": {
      "text/plain": [
       "['iOS', 'android']"
      ]
     },
     "execution_count": 6,
     "metadata": {},
     "output_type": "execute_result"
    }
   ],
   "source": [
    "# List of devices type\n",
    "dev = list(set(df[\"device\"]))\n",
    "dev"
   ]
  },
  {
   "cell_type": "code",
   "execution_count": 7,
   "id": "8b7c3fe2-8e7e-43dd-9aa4-228979addff2",
   "metadata": {},
   "outputs": [
    {
     "data": {
      "text/plain": [
       "[530525.0, 283545.0]"
      ]
     },
     "execution_count": 7,
     "metadata": {},
     "output_type": "execute_result"
    }
   ],
   "source": [
    "# List of total contributions per device type\n",
    "list_amount_dev = []\n",
    "for i in dev:\n",
    "    list_amount_dev.append(sum(df[df[\"device\"] == i][\"amount\"]))\n",
    "list_amount_dev"
   ]
  },
  {
   "cell_type": "code",
   "execution_count": 8,
   "id": "01e74ba6-bfb6-40aa-b173-4d9d64898437",
   "metadata": {},
   "outputs": [
    {
     "data": {
      "application/com.datacamp.data-table.v1+json": {
       "is_truncated": false,
       "table": {
        "data": [
         {
          "amount": 530525,
          "device": "iOS",
          "index": 0
         },
         {
          "amount": 283545,
          "device": "android",
          "index": 1
         }
        ],
        "schema": {
         "fields": [
          {
           "name": "index",
           "type": "integer"
          },
          {
           "name": "device",
           "type": "string"
          },
          {
           "name": "amount",
           "type": "number"
          }
         ],
         "pandas_version": "0.20.0",
         "primaryKey": [
          "index"
         ]
        }
       }
      },
      "text/html": [
       "<div>\n",
       "<style scoped>\n",
       "    .dataframe tbody tr th:only-of-type {\n",
       "        vertical-align: middle;\n",
       "    }\n",
       "\n",
       "    .dataframe tbody tr th {\n",
       "        vertical-align: top;\n",
       "    }\n",
       "\n",
       "    .dataframe thead th {\n",
       "        text-align: right;\n",
       "    }\n",
       "</style>\n",
       "<table border=\"1\" class=\"dataframe\">\n",
       "  <thead>\n",
       "    <tr style=\"text-align: right;\">\n",
       "      <th></th>\n",
       "      <th>device</th>\n",
       "      <th>amount</th>\n",
       "    </tr>\n",
       "  </thead>\n",
       "  <tbody>\n",
       "    <tr>\n",
       "      <th>0</th>\n",
       "      <td>iOS</td>\n",
       "      <td>530525.0</td>\n",
       "    </tr>\n",
       "    <tr>\n",
       "      <th>1</th>\n",
       "      <td>android</td>\n",
       "      <td>283545.0</td>\n",
       "    </tr>\n",
       "  </tbody>\n",
       "</table>\n",
       "</div>"
      ],
      "text/plain": [
       "    device    amount\n",
       "0      iOS  530525.0\n",
       "1  android  283545.0"
      ]
     },
     "execution_count": 8,
     "metadata": {},
     "output_type": "execute_result"
    }
   ],
   "source": [
    "# Dataframe of the two lists\n",
    "dev_amount = {\"device\":dev, \"amount\": list_amount_dev}\n",
    "df_dev_amount = pd.DataFrame(dev_amount)\n",
    "df_dev_amount.sort_values(\"amount\", ascending = False)\n",
    "df_dev_amount"
   ]
  },
  {
   "cell_type": "code",
   "execution_count": 9,
   "id": "9e6854f4-9af4-43ac-977c-a7a6e1e1f4d2",
   "metadata": {},
   "outputs": [
    {
     "data": {
      "image/png": "[encoded data removed]",
      "text/plain": [
       "<Figure size 576x360 with 1 Axes>"
      ]
     },
     "metadata": {
      "needs_background": "light"
     },
     "output_type": "display_data"
    }
   ],
   "source": [
    "plt.rcParams[\"figure.figsize\"] = (8,5)\n",
    "\n",
    "plt.bar(df_dev_amount[\"device\"], df_dev_amount[\"amount\"])\n",
    "plt.title(\"Device with the most contributions\")\n",
    "plt.show()"
   ]
  },
  {
   "cell_type": "markdown",
   "id": "ed4e4872-50e1-4fe5-a6ea-47ed40887bfd",
   "metadata": {},
   "source": [
    "<a name=\"age\"></a>\n",
    "___\n",
    "# <center> 3. AGE BRACKETS </center>"
   ]
  },
  {
   "cell_type": "code",
   "execution_count": 10,
   "id": "31836071-336b-4481-8941-6354bdfeb349",
   "metadata": {},
   "outputs": [
    {
     "data": {
      "text/plain": [
       "['55+', '25-34', '18-24', '45-54', '35-44']"
      ]
     },
     "execution_count": 10,
     "metadata": {},
     "output_type": "execute_result"
    }
   ],
   "source": [
    "# List of age brackets\n",
    "age = df[\"age\"]\n",
    "age_range = (list(set(age)))\n",
    "age_range"
   ]
  },
  {
   "cell_type": "code",
   "execution_count": 11,
   "id": "4eb40830-fc84-4bda-8224-9b28fddd2c0c",
   "metadata": {},
   "outputs": [
    {
     "data": {
      "application/com.datacamp.data-table.v1+json": {
       "is_truncated": false,
       "table": {
        "data": [
         {
          "age": "25-34",
          "index": 1,
          "values": 2496
         },
         {
          "age": "55+",
          "index": 0,
          "values": 2515
         },
         {
          "age": "45-54",
          "index": 3,
          "values": 2532
         },
         {
          "age": "35-44",
          "index": 4,
          "values": 2676
         },
         {
          "age": "18-24",
          "index": 2,
          "values": 10439
         }
        ],
        "schema": {
         "fields": [
          {
           "name": "index",
           "type": "integer"
          },
          {
           "name": "age",
           "type": "string"
          },
          {
           "name": "values",
           "type": "integer"
          }
         ],
         "pandas_version": "0.20.0",
         "primaryKey": [
          "index"
         ]
        }
       }
      },
      "text/html": [
       "<div>\n",
       "<style scoped>\n",
       "    .dataframe tbody tr th:only-of-type {\n",
       "        vertical-align: middle;\n",
       "    }\n",
       "\n",
       "    .dataframe tbody tr th {\n",
       "        vertical-align: top;\n",
       "    }\n",
       "\n",
       "    .dataframe thead th {\n",
       "        text-align: right;\n",
       "    }\n",
       "</style>\n",
       "<table border=\"1\" class=\"dataframe\">\n",
       "  <thead>\n",
       "    <tr style=\"text-align: right;\">\n",
       "      <th></th>\n",
       "      <th>age</th>\n",
       "      <th>values</th>\n",
       "    </tr>\n",
       "  </thead>\n",
       "  <tbody>\n",
       "    <tr>\n",
       "      <th>1</th>\n",
       "      <td>25-34</td>\n",
       "      <td>2496</td>\n",
       "    </tr>\n",
       "    <tr>\n",
       "      <th>0</th>\n",
       "      <td>55+</td>\n",
       "      <td>2515</td>\n",
       "    </tr>\n",
       "    <tr>\n",
       "      <th>3</th>\n",
       "      <td>45-54</td>\n",
       "      <td>2532</td>\n",
       "    </tr>\n",
       "    <tr>\n",
       "      <th>4</th>\n",
       "      <td>35-44</td>\n",
       "      <td>2676</td>\n",
       "    </tr>\n",
       "    <tr>\n",
       "      <th>2</th>\n",
       "      <td>18-24</td>\n",
       "      <td>10439</td>\n",
       "    </tr>\n",
       "  </tbody>\n",
       "</table>\n",
       "</div>"
      ],
      "text/plain": [
       "     age  values\n",
       "1  25-34    2496\n",
       "0    55+    2515\n",
       "3  45-54    2532\n",
       "4  35-44    2676\n",
       "2  18-24   10439"
      ]
     },
     "execution_count": 11,
     "metadata": {},
     "output_type": "execute_result"
    }
   ],
   "source": [
    "list_ages_range = []\n",
    "list_ages_values = []\n",
    "\n",
    "for j in age_range:\n",
    "    contador = 0\n",
    "    for k in age:\n",
    "        if j == k:\n",
    "            contador = contador + 1\n",
    "    list_ages_range.append(j)\n",
    "    list_ages_values.append(contador)\n",
    "\n",
    "ages_values = {\"age\": list_ages_range, \"values\": list_ages_values}\n",
    "df_ages_values = pd.DataFrame(ages_values).sort_values(\"values\")\n",
    "df_ages_values"
   ]
  },
  {
   "cell_type": "code",
   "execution_count": 12,
   "id": "c8ce8d03-308a-4895-b686-2bcafefdeee1",
   "metadata": {},
   "outputs": [
    {
     "data": {
      "image/png": "[encoded data removed]",
      "text/plain": [
       "<Figure size 576x360 with 1 Axes>"
      ]
     },
     "metadata": {},
     "output_type": "display_data"
    }
   ],
   "source": [
    "plt.rcParams[\"figure.figsize\"] = (8,5)\n",
    "\n",
    "colors = ['gold', 'red', 'lightcoral', 'lightskyblue', 'yellowgreen']\n",
    "explode = (0, 0, 0, 0, 0.06)\n",
    "# Plot\n",
    "plt.pie(df_ages_values[\"values\"], explode=explode, labels=df_ages_values[\"age\"], colors=colors,\n",
    "autopct='%1.1f%%', shadow=True, startangle=0)\n",
    "plt.title(\"Age brackets\")\n",
    "plt.show()"
   ]
  },
  {
   "cell_type": "markdown",
   "id": "355a8419-e571-4d59-b371-657d9aeabc6a",
   "metadata": {},
   "source": [
    "<a name=\"vis\"></a>\n",
    "___\n",
    "# <center> SINGLE VISUALIZATION </center> \n",
    "___"
   ]
  },
  {
   "cell_type": "code",
   "execution_count": 13,
   "id": "7602bfc6-70f5-4e16-a077-d0852001b2f2",
   "metadata": {},
   "outputs": [
    {
     "data": {
      "text/plain": [
       "Text(0.5, 1.0, 'AGE BRACKETS')"
      ]
     },
     "execution_count": 13,
     "metadata": {},
     "output_type": "execute_result"
    },
    {
     "data": {
      "image/png": "[encoded data removed]",
      "text/plain": [
       "<Figure size 864x720 with 3 Axes>"
      ]
     },
     "metadata": {
      "needs_background": "light"
     },
     "output_type": "display_data"
    }
   ],
   "source": [
    "import matplotlib.pylab as pl\n",
    "import matplotlib.gridspec as gridspec\n",
    "plt.rcParams[\"figure.figsize\"] = (12,10)\n",
    "\n",
    "# Create 2x2 sub plots\n",
    "gs = gridspec.GridSpec(2, 2)\n",
    "\n",
    "pl.figure()\n",
    "\n",
    "colors = [\"r\", \"r\", \"r\", \"b\", \"b\"]\n",
    "ax = pl.subplot(gs[0, :]) # row 0, col 0\n",
    "pl.scatter(df_c_a_sort[\"category\"], df_c_a_sort[\"amount\"], color = colors)\n",
    "pl.ylabel(\"Dollars\")\n",
    "pl.title(\"TOP THREE CATEGORIES CONTRIBUTIONS\")\n",
    "\n",
    "ax = pl.subplot(gs[1, 0])\n",
    "pl.bar(df_dev_amount[\"device\"], df_dev_amount[\"amount\"])\n",
    "pl.ylabel(\"Dollars\")\n",
    "pl.title(\"DEVICE TYPE PROVIDED THE MOST CONTRIBUTIONS\")\n",
    "\n",
    "\n",
    "ax = pl.subplot(gs[1, 1]) # row 1, span all columns\n",
    "colors = ['gold', 'red', 'lightcoral', 'lightskyblue', 'yellowgreen']\n",
    "explode = (0, 0, 0, 0, 0.06)\n",
    "pl.pie(df_ages_values[\"values\"], explode=explode, labels=df_ages_values[\"age\"], colors=colors,\n",
    "autopct='%1.1f%%', shadow=True, startangle=0)\n",
    "pl.title(\"AGE BRACKETS\")"
   ]
  },
  {
   "cell_type": "markdown",
   "id": "0cb568a4-eeab-4492-9c92-94bce4ffbd7d",
   "metadata": {},
   "source": [
    "### FOCUS ON: \n",
    "\n",
    "- 18-24 years people, with iPhone in the categories: Games, Sports and Tech. "
   ]
  },
  {
   "cell_type": "markdown",
   "id": "3bd303b2-3648-44bc-a41c-9556ff5790f1",
   "metadata": {},
   "source": [
    "<a name=\"sec\"></a>\n",
    "___\n",
    "# <center> (plus) RANGE PER CATEGORY AND THE SECOND BEST </center>\n"
   ]
  },
  {
   "cell_type": "code",
   "execution_count": 17,
   "id": "049e38de-ccf4-4343-8447-823d1c29ac52",
   "metadata": {},
   "outputs": [
    {
     "name": "stdout",
     "output_type": "stream",
     "text": [
      "_________________________________\n",
      "Environment- first and second best\n",
      "     age  values\n",
      "2  18-24    2074\n",
      "0    55+     510\n",
      "\n",
      "\n"
     ]
    },
    {
     "data": {
      "image/png": "[encoded data removed]",
      "text/plain": [
       "<Figure size 576x360 with 1 Axes>"
      ]
     },
     "metadata": {},
     "output_type": "display_data"
    },
    {
     "name": "stdout",
     "output_type": "stream",
     "text": [
      "_________________________________\n",
      "Fashion- first and second best\n",
      "     age  values\n",
      "2  18-24    2054\n",
      "4  35-44     538\n",
      "\n",
      "\n"
     ]
    },
    {
     "data": {
      "image/png": "[encoded data removed]",
      "text/plain": [
       "<Figure size 576x360 with 1 Axes>"
      ]
     },
     "metadata": {},
     "output_type": "display_data"
    },
    {
     "name": "stdout",
     "output_type": "stream",
     "text": [
      "_________________________________\n",
      "Games- first and second best\n",
      "     age  values\n",
      "2  18-24    2176\n",
      "4  35-44     545\n",
      "\n",
      "\n"
     ]
    },
    {
     "data": {
      "image/png": "[encoded data removed]",
      "text/plain": [
       "<Figure size 576x360 with 1 Axes>"
      ]
     },
     "metadata": {},
     "output_type": "display_data"
    },
    {
     "name": "stdout",
     "output_type": "stream",
     "text": [
      "_________________________________\n",
      "Sports- first and second best\n",
      "     age  values\n",
      "2  18-24    2112\n",
      "4  35-44     530\n",
      "\n",
      "\n"
     ]
    },
    {
     "data": {
      "image/png": "[encoded data removed]",
      "text/plain": [
       "<Figure size 576x360 with 1 Axes>"
      ]
     },
     "metadata": {},
     "output_type": "display_data"
    },
    {
     "name": "stdout",
     "output_type": "stream",
     "text": [
      "_________________________________\n",
      "Technology- first and second best\n",
      "     age  values\n",
      "2  18-24    2023\n",
      "4  35-44     561\n",
      "\n",
      "\n"
     ]
    },
    {
     "data": {
      "image/png": "[encoded data removed]",
      "text/plain": [
       "<Figure size 576x360 with 1 Axes>"
      ]
     },
     "metadata": {},
     "output_type": "display_data"
    }
   ],
   "source": [
    "plt.rcParams[\"figure.figsize\"] = (8,5)\n",
    "\n",
    "def pie_category_age(age_cat):\n",
    "    list_ages_range = []\n",
    "    list_ages_values = []\n",
    "\n",
    "    for j in age_range:\n",
    "        contador = 0\n",
    "        for k in age_cat:\n",
    "            if j == k:\n",
    "                contador = contador + 1\n",
    "        list_ages_range.append(j)\n",
    "        list_ages_values.append(contador)\n",
    "\n",
    "    ages_values = {\"age\": list_ages_range, \"values\": list_ages_values}\n",
    "    df_ages_values = pd.DataFrame(ages_values)\n",
    "    return df_ages_values.sort_values(\"age\")\n",
    "\n",
    "\n",
    "list_sum = []\n",
    "cat.sort()\n",
    "for i in cat:\n",
    "    age_cat = df[df[\"category\"] == i][\"age\"]\n",
    "    df_age_cat = pie_category_age(age_cat)\n",
    "    # df_age_cat = df_age_cat.sort_values(\"values\")\n",
    "    # print(sum(df_age_cat[\"values\"]))\n",
    "    df_age_cat.sort_values(\"age\")\n",
    "    print(\"_________________________________\")\n",
    "    print(str(i) + \"- first and second best\")\n",
    "    print(df_age_cat.sort_values(\"values\", ascending = False).head(2))\n",
    "    print(\"\\n\")\n",
    "    #list_sum.append(sum(df_age_cat[\"values\"]))\n",
    "    colors = ['yellowgreen', 'lightcoral', 'gold', 'lightskyblue', 'red']\n",
    "    explode = (0.06, 0, 0, 0, 0)\n",
    "    plt.pie(df_age_cat[\"values\"], explode=explode, labels=df_age_cat[\"age\"], colors=colors, autopct='%1.1f%%', shadow=True, startangle=0)\n",
    "    plt.title(\"Age brackets from \" + i)\n",
    "    plt.show()\n",
    "    # plt.savefig(\"pie_\" + i + \".jpg\")\n",
    "    plt.close()"
   ]
  }
 ],
 "metadata": {
  "kernelspec": {
   "display_name": "Python 3 (ipykernel)",
   "language": "python",
   "name": "python3"
  },
  "language_info": {
   "codemirror_mode": {
    "name": "ipython",
    "version": 3
   },
   "file_extension": ".py",
   "mimetype": "text/x-python",
   "name": "python",
   "nbconvert_exporter": "python",
   "pygments_lexer": "ipython3",
   "version": "3.8.10"
  }
 },
 "nbformat": 4,
 "nbformat_minor": 5
}
